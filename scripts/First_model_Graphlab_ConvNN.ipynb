{
 "cells": [
  {
   "cell_type": "code",
   "execution_count": 20,
   "metadata": {
    "collapsed": false
   },
   "outputs": [],
   "source": [
    " import graphlab as gl\n",
    "import os\n",
    "import numpy as np"
   ]
  },
  {
   "cell_type": "code",
   "execution_count": 10,
   "metadata": {
    "collapsed": false
   },
   "outputs": [
    {
     "data": {
      "text/html": [
       "<pre>Unsupported image format. Supported formats are JPG and PNG\t file: /Users/swathisivadas/Documents/DS_class/Capstone/images/train_copy/.DS_Store</pre>"
      ],
      "text/plain": [
       "Unsupported image format. Supported formats are JPG and PNG\t file: /Users/swathisivadas/Documents/DS_class/Capstone/images/train_copy/.DS_Store"
      ]
     },
     "metadata": {},
     "output_type": "display_data"
    }
   ],
   "source": [
    "train_dir = ('images/train_copy')\n",
    "train_sf = gl.image_analysis.load_images(train_dir, random_order=True)"
   ]
  },
  {
   "cell_type": "code",
   "execution_count": 6,
   "metadata": {
    "collapsed": false
   },
   "outputs": [
    {
     "name": "stderr",
     "output_type": "stream",
     "text": [
      "/Users/swathisivadas/anaconda/lib/python2.7/site-packages/IPython/core/formatters.py:90: DeprecationWarning: DisplayFormatter._ipython_display_formatter_default is deprecated: use @default decorator instead.\n",
      "  def _ipython_display_formatter_default(self):\n",
      "/Users/swathisivadas/anaconda/lib/python2.7/site-packages/IPython/core/formatters.py:96: DeprecationWarning: DisplayFormatter._formatters_default is deprecated: use @default decorator instead.\n",
      "  def _formatters_default(self):\n",
      "/Users/swathisivadas/anaconda/lib/python2.7/site-packages/IPython/core/formatters.py:675: DeprecationWarning: PlainTextFormatter._deferred_printers_default is deprecated: use @default decorator instead.\n",
      "  def _deferred_printers_default(self):\n",
      "/Users/swathisivadas/anaconda/lib/python2.7/site-packages/IPython/core/formatters.py:667: DeprecationWarning: PlainTextFormatter._singleton_printers_default is deprecated: use @default decorator instead.\n",
      "  def _singleton_printers_default(self):\n",
      "/Users/swathisivadas/anaconda/lib/python2.7/site-packages/IPython/core/formatters.py:670: DeprecationWarning: PlainTextFormatter._type_printers_default is deprecated: use @default decorator instead.\n",
      "  def _type_printers_default(self):\n",
      "/Users/swathisivadas/anaconda/lib/python2.7/site-packages/IPython/core/formatters.py:667: DeprecationWarning: PlainTextFormatter._singleton_printers_default is deprecated: use @default decorator instead.\n",
      "  def _singleton_printers_default(self):\n",
      "/Users/swathisivadas/anaconda/lib/python2.7/site-packages/IPython/core/formatters.py:670: DeprecationWarning: PlainTextFormatter._type_printers_default is deprecated: use @default decorator instead.\n",
      "  def _type_printers_default(self):\n",
      "/Users/swathisivadas/anaconda/lib/python2.7/site-packages/IPython/core/formatters.py:675: DeprecationWarning: PlainTextFormatter._deferred_printers_default is deprecated: use @default decorator instead.\n",
      "  def _deferred_printers_default(self):\n"
     ]
    },
    {
     "data": {
      "text/plain": [
       "graphlab.data_structures.sframe.SFrame"
      ]
     },
     "execution_count": 6,
     "metadata": {},
     "output_type": "execute_result"
    }
   ],
   "source": [
    "type(train_sf)"
   ]
  },
  {
   "cell_type": "code",
   "execution_count": 11,
   "metadata": {
    "collapsed": false
   },
   "outputs": [
    {
     "data": {
      "text/plain": [
       "705"
      ]
     },
     "execution_count": 11,
     "metadata": {},
     "output_type": "execute_result"
    }
   ],
   "source": [
    "len(train_sf)"
   ]
  },
  {
   "cell_type": "code",
   "execution_count": 12,
   "metadata": {
    "collapsed": true
   },
   "outputs": [],
   "source": [
    "train_sf['image'] = gl.image_analysis.resize(train_sf['image'], 256, 256)"
   ]
  },
  {
   "cell_type": "code",
   "execution_count": 17,
   "metadata": {
    "collapsed": false
   },
   "outputs": [
    {
     "data": {
      "text/plain": [
       "'spaghetti'"
      ]
     },
     "execution_count": 17,
     "metadata": {},
     "output_type": "execute_result"
    }
   ],
   "source": [
    "train_sf['path'][1].split('/')[-1].split('_')[0]"
   ]
  },
  {
   "cell_type": "code",
   "execution_count": 19,
   "metadata": {
    "collapsed": false
   },
   "outputs": [],
   "source": [
    "train_sf['label'] = train_sf['path'].apply(lambda x: x.split('/')[-1].split('_')[0])"
   ]
  },
  {
   "cell_type": "code",
   "execution_count": 22,
   "metadata": {
    "collapsed": false
   },
   "outputs": [],
   "source": [
    "cat=np.zeros(len(train_sf['label']))\n",
    "for i,x in enumerate(train_sf['label']):\n",
    "    if x == 'burger':\n",
    "        cat[i] = 0\n",
    "    elif x == 'fries':\n",
    "        cat[i] = 1\n",
    "    elif x == 'spaghetti':\n",
    "        cat[i] = 2"
   ]
  },
  {
   "cell_type": "code",
   "execution_count": 38,
   "metadata": {
    "collapsed": false
   },
   "outputs": [],
   "source": [
    "train_sf['cat'] = cat.astype(int)"
   ]
  },
  {
   "cell_type": "code",
   "execution_count": 39,
   "metadata": {
    "collapsed": false
   },
   "outputs": [
    {
     "data": {
      "text/plain": [
       "int"
      ]
     },
     "execution_count": 39,
     "metadata": {},
     "output_type": "execute_result"
    }
   ],
   "source": [
    "type(train_sf['cat'][1])"
   ]
  },
  {
   "cell_type": "code",
   "execution_count": 40,
   "metadata": {
    "collapsed": false
   },
   "outputs": [],
   "source": [
    "train_sf.save('images/sframe/train_shuffle')"
   ]
  },
  {
   "cell_type": "code",
   "execution_count": 29,
   "metadata": {
    "collapsed": false
   },
   "outputs": [],
   "source": [
    "mean_image = train_sf['image'].mean()"
   ]
  },
  {
   "cell_type": "code",
   "execution_count": 41,
   "metadata": {
    "collapsed": true
   },
   "outputs": [],
   "source": [
    "training_data, validation_data = train_sf.random_split(0.8)"
   ]
  },
  {
   "cell_type": "code",
   "execution_count": 42,
   "metadata": {
    "collapsed": true
   },
   "outputs": [],
   "source": [
    "net = graphlab.deeplearning.create(training_data, target='cat')"
   ]
  },
  {
   "cell_type": "code",
   "execution_count": 43,
   "metadata": {
    "collapsed": false
   },
   "outputs": [
    {
     "data": {
      "text/plain": [
       "layer[0]: ConvolutionLayer\n",
       "  init_random = gaussian\n",
       "  padding = 0\n",
       "  stride = 2\n",
       "  num_channels = 10\n",
       "  num_groups = 1\n",
       "  kernel_size = 3\n",
       "layer[1]: MaxPoolingLayer\n",
       "  padding = 0\n",
       "  stride = 2\n",
       "  kernel_size = 3\n",
       "layer[2]: FlattenLayer\n",
       "layer[3]: FullConnectionLayer\n",
       "  init_sigma = 0.01\n",
       "  init_random = gaussian\n",
       "  init_bias = 0\n",
       "  num_hidden_units = 100\n",
       "layer[4]: RectifiedLinearLayer\n",
       "layer[5]: DropoutLayer\n",
       "  threshold = 0.5\n",
       "layer[6]: FullConnectionLayer\n",
       "  init_sigma = 0.01\n",
       "  init_random = gaussian\n",
       "  init_bias = 0\n",
       "  num_hidden_units = 3\n",
       "layer[7]: SoftmaxLayer"
      ]
     },
     "execution_count": 43,
     "metadata": {},
     "output_type": "execute_result"
    }
   ],
   "source": [
    "net.layers"
   ]
  },
  {
   "cell_type": "code",
   "execution_count": 44,
   "metadata": {
    "collapsed": true
   },
   "outputs": [],
   "source": [
    "net.layers[4].num_hidden_units = 10"
   ]
  },
  {
   "cell_type": "code",
   "execution_count": 49,
   "metadata": {
    "collapsed": false
   },
   "outputs": [
    {
     "data": {
      "text/html": [
       "<pre>Computing mean image...</pre>"
      ],
      "text/plain": [
       "Computing mean image..."
      ]
     },
     "metadata": {},
     "output_type": "display_data"
    },
    {
     "data": {
      "text/html": [
       "<pre>Done computing mean image.</pre>"
      ],
      "text/plain": [
       "Done computing mean image."
      ]
     },
     "metadata": {},
     "output_type": "display_data"
    },
    {
     "data": {
      "text/html": [
       "<pre>Creating neuralnet using cpu</pre>"
      ],
      "text/plain": [
       "Creating neuralnet using cpu"
      ]
     },
     "metadata": {},
     "output_type": "display_data"
    },
    {
     "data": {
      "text/html": [
       "<pre>Training with batch size = 100</pre>"
      ],
      "text/plain": [
       "Training with batch size = 100"
      ]
     },
     "metadata": {},
     "output_type": "display_data"
    },
    {
     "data": {
      "text/html": [
       "<pre>+-----------+----------+--------------+-------------------+---------------------+-------------------+---------------------+-----------------+</pre>"
      ],
      "text/plain": [
       "+-----------+----------+--------------+-------------------+---------------------+-------------------+---------------------+-----------------+"
      ]
     },
     "metadata": {},
     "output_type": "display_data"
    },
    {
     "data": {
      "text/html": [
       "<pre>| Iteration | Examples | Elapsed Time | Training-accuracy | Validation-accuracy | Training-recall@2 | Validation-recall@2 | Examples/second |</pre>"
      ],
      "text/plain": [
       "| Iteration | Examples | Elapsed Time | Training-accuracy | Validation-accuracy | Training-recall@2 | Validation-recall@2 | Examples/second |"
      ]
     },
     "metadata": {},
     "output_type": "display_data"
    },
    {
     "data": {
      "text/html": [
       "<pre>+-----------+----------+--------------+-------------------+---------------------+-------------------+---------------------+-----------------+</pre>"
      ],
      "text/plain": [
       "+-----------+----------+--------------+-------------------+---------------------+-------------------+---------------------+-----------------+"
      ]
     },
     "metadata": {},
     "output_type": "display_data"
    },
    {
     "data": {
      "text/html": [
       "<pre>| 1         | 300      | 12.253273    | 0.366667          |                     | 0.730000          |                     | 24.485386       |</pre>"
      ],
      "text/plain": [
       "| 1         | 300      | 12.253273    | 0.366667          |                     | 0.730000          |                     | 24.485386       |"
      ]
     },
     "metadata": {},
     "output_type": "display_data"
    },
    {
     "data": {
      "text/html": [
       "<pre>| 1         | 600      | 23.511231    | 0.423333          |                     | 0.743333          |                     | 26.645302       |</pre>"
      ],
      "text/plain": [
       "| 1         | 600      | 23.511231    | 0.423333          |                     | 0.743333          |                     | 26.645302       |"
      ]
     },
     "metadata": {},
     "output_type": "display_data"
    },
    {
     "data": {
      "text/html": [
       "<pre>| 1         | 600      | 27.380958    | 0.423333          | 0.508065            | 0.743333          | 0.741935            | 26.645302       |</pre>"
      ],
      "text/plain": [
       "| 1         | 600      | 27.380958    | 0.423333          | 0.508065            | 0.743333          | 0.741935            | 26.645302       |"
      ]
     },
     "metadata": {},
     "output_type": "display_data"
    },
    {
     "data": {
      "text/html": [
       "<pre>| 2         | 300      | 39.221685    | 0.580000          |                     | 0.826667          |                     | 25.336433       |</pre>"
      ],
      "text/plain": [
       "| 2         | 300      | 39.221685    | 0.580000          |                     | 0.826667          |                     | 25.336433       |"
      ]
     },
     "metadata": {},
     "output_type": "display_data"
    },
    {
     "data": {
      "text/html": [
       "<pre>| 2         | 600      | 50.808118    | 0.563333          |                     | 0.825000          |                     | 25.892349       |</pre>"
      ],
      "text/plain": [
       "| 2         | 600      | 50.808118    | 0.563333          |                     | 0.825000          |                     | 25.892349       |"
      ]
     },
     "metadata": {},
     "output_type": "display_data"
    },
    {
     "data": {
      "text/html": [
       "<pre>| 2         | 600      | 54.702381    | 0.563333          | 0.637097            | 0.825000          | 0.895161            | 25.892349       |</pre>"
      ],
      "text/plain": [
       "| 2         | 600      | 54.702381    | 0.563333          | 0.637097            | 0.825000          | 0.895161            | 25.892349       |"
      ]
     },
     "metadata": {},
     "output_type": "display_data"
    },
    {
     "data": {
      "text/html": [
       "<pre>| 3         | 300      | 66.391500    | 0.620000          |                     | 0.833333          |                     | 25.665039       |</pre>"
      ],
      "text/plain": [
       "| 3         | 300      | 66.391500    | 0.620000          |                     | 0.833333          |                     | 25.665039       |"
      ]
     },
     "metadata": {},
     "output_type": "display_data"
    },
    {
     "data": {
      "text/html": [
       "<pre>| 3         | 600      | 77.685911    | 0.620000          |                     | 0.846667          |                     | 26.561810       |</pre>"
      ],
      "text/plain": [
       "| 3         | 600      | 77.685911    | 0.620000          |                     | 0.846667          |                     | 26.561810       |"
      ]
     },
     "metadata": {},
     "output_type": "display_data"
    },
    {
     "data": {
      "text/html": [
       "<pre>| 3         | 600      | 81.589552    | 0.620000          | 0.693548            | 0.846667          | 0.911290            | 26.561810       |</pre>"
      ],
      "text/plain": [
       "| 3         | 600      | 81.589552    | 0.620000          | 0.693548            | 0.846667          | 0.911290            | 26.561810       |"
      ]
     },
     "metadata": {},
     "output_type": "display_data"
    },
    {
     "data": {
      "text/html": [
       "<pre>+-----------+----------+--------------+-------------------+---------------------+-------------------+---------------------+-----------------+</pre>"
      ],
      "text/plain": [
       "+-----------+----------+--------------+-------------------+---------------------+-------------------+---------------------+-----------------+"
      ]
     },
     "metadata": {},
     "output_type": "display_data"
    },
    {
     "name": "stdout",
     "output_type": "stream",
     "text": [
      "Using network:\n",
      "\n",
      "### network layers ###\n",
      "layer[0]: ConvolutionLayer\n",
      "  init_random = gaussian\n",
      "  padding = 0\n",
      "  stride = 2\n",
      "  num_channels = 10\n",
      "  num_groups = 1\n",
      "  kernel_size = 3\n",
      "layer[1]: MaxPoolingLayer\n",
      "  padding = 0\n",
      "  stride = 2\n",
      "  kernel_size = 3\n",
      "layer[2]: FlattenLayer\n",
      "layer[3]: FullConnectionLayer\n",
      "  init_sigma = 0.01\n",
      "  init_random = gaussian\n",
      "  init_bias = 0\n",
      "  num_hidden_units = 100\n",
      "layer[4]: RectifiedLinearLayer\n",
      "  num_hidden_units = 10\n",
      "layer[5]: DropoutLayer\n",
      "  threshold = 0.5\n",
      "layer[6]: FullConnectionLayer\n",
      "  init_sigma = 0.01\n",
      "  init_random = gaussian\n",
      "  init_bias = 0\n",
      "  num_hidden_units = 3\n",
      "layer[7]: SoftmaxLayer\n",
      "### end network layers ###\n",
      "\n",
      "### network parameters ###\n",
      "learning_rate = 0.001\n",
      "metric = accuracy,recall@2\n",
      "momentum = 0.9\n",
      "### end network parameters ###\n",
      "\n"
     ]
    }
   ],
   "source": [
    "m = graphlab.neuralnet_classifier.create(training_data['image','cat'], target='cat',\n",
    "                                          network = net,\n",
    "                                          validation_set=validation_data['image','cat'],\n",
    "                                          metric=['accuracy', 'recall@2'],\n",
    "                                          max_iterations=3)"
   ]
  },
  {
   "cell_type": "code",
   "execution_count": 72,
   "metadata": {
    "collapsed": false
   },
   "outputs": [
    {
     "data": {
      "text/html": [
       "<pre>Unexpected JPEG decode failure\t file: /Users/swathisivadas/Documents/DS_class/Capstone/images/test/fries.jpg</pre>"
      ],
      "text/plain": [
       "Unexpected JPEG decode failure\t file: /Users/swathisivadas/Documents/DS_class/Capstone/images/test/fries.jpg"
      ]
     },
     "metadata": {},
     "output_type": "display_data"
    },
    {
     "data": {
      "text/html": [
       "<pre>Unsupported image format. Supported formats are JPG and PNG\t file: /Users/swathisivadas/Documents/DS_class/Capstone/images/test/.DS_Store</pre>"
      ],
      "text/plain": [
       "Unsupported image format. Supported formats are JPG and PNG\t file: /Users/swathisivadas/Documents/DS_class/Capstone/images/test/.DS_Store"
      ]
     },
     "metadata": {},
     "output_type": "display_data"
    }
   ],
   "source": [
    "test_im = gl.image_analysis.load_images('images/test/')"
   ]
  },
  {
   "cell_type": "code",
   "execution_count": 74,
   "metadata": {
    "collapsed": false
   },
   "outputs": [
    {
     "data": {
      "text/plain": [
       "dtype: str\n",
       "Rows: 5\n",
       "['/Users/swathisivadas/Documents/DS_class/Capstone/images/test/burger_white.jpg', '/Users/swathisivadas/Documents/DS_class/Capstone/images/test/burger_wc.jpg', '/Users/swathisivadas/Documents/DS_class/Capstone/images/test/51552-Burger-And-Fries.jpg', '/Users/swathisivadas/Documents/DS_class/Capstone/images/test/pasta-openpic.jpg', '/Users/swathisivadas/Documents/DS_class/Capstone/images/test/venicea01.jpg']"
      ]
     },
     "execution_count": 74,
     "metadata": {},
     "output_type": "execute_result"
    }
   ],
   "source": [
    "test_im['path']"
   ]
  },
  {
   "cell_type": "code",
   "execution_count": 59,
   "metadata": {
    "collapsed": false
   },
   "outputs": [],
   "source": [
    "test_im['image'] = gl.image_analysis.resize(test_im['image'], 256, 256)"
   ]
  },
  {
   "cell_type": "code",
   "execution_count": 65,
   "metadata": {
    "collapsed": false
   },
   "outputs": [
    {
     "data": {
      "text/plain": [
       "graphlab.data_structures.image.Image"
      ]
     },
     "execution_count": 65,
     "metadata": {},
     "output_type": "execute_result"
    }
   ],
   "source": [
    "type(mean_test)"
   ]
  },
  {
   "cell_type": "code",
   "execution_count": 75,
   "metadata": {
    "collapsed": true
   },
   "outputs": [],
   "source": [
    "label = [0,0,1,2,2]"
   ]
  },
  {
   "cell_type": "code",
   "execution_count": 76,
   "metadata": {
    "collapsed": true
   },
   "outputs": [],
   "source": [
    "test_im['label'] = label"
   ]
  },
  {
   "cell_type": "code",
   "execution_count": 68,
   "metadata": {
    "collapsed": false
   },
   "outputs": [],
   "source": [
    "mean_test = test_im['image'].mean()"
   ]
  },
  {
   "cell_type": "code",
   "execution_count": 77,
   "metadata": {
    "collapsed": false
   },
   "outputs": [
    {
     "data": {
      "text/html": [
       "<pre>Images being resized.</pre>"
      ],
      "text/plain": [
       "Images being resized."
      ]
     },
     "metadata": {},
     "output_type": "display_data"
    },
    {
     "data": {
      "text/plain": [
       "dtype: int\n",
       "Rows: 5\n",
       "[0, 2, 0, 2, 2]"
      ]
     },
     "execution_count": 77,
     "metadata": {},
     "output_type": "execute_result"
    }
   ],
   "source": [
    "m.predict(test_im)"
   ]
  },
  {
   "cell_type": "code",
   "execution_count": 71,
   "metadata": {
    "collapsed": false
   },
   "outputs": [
    {
     "data": {
      "text/plain": [
       "layer[0]: ConvolutionLayer\n",
       "  init_random = gaussian\n",
       "  padding = 0\n",
       "  stride = 2\n",
       "  num_channels = 10\n",
       "  num_groups = 1\n",
       "  kernel_size = 3\n",
       "layer[1]: MaxPoolingLayer\n",
       "  padding = 0\n",
       "  stride = 2\n",
       "  kernel_size = 3\n",
       "layer[2]: FlattenLayer\n",
       "layer[3]: FullConnectionLayer\n",
       "  init_sigma = 0.01\n",
       "  init_random = gaussian\n",
       "  init_bias = 0\n",
       "  num_hidden_units = 100\n",
       "layer[4]: RectifiedLinearLayer\n",
       "  num_hidden_units = 10\n",
       "layer[5]: DropoutLayer\n",
       "  threshold = 0.5\n",
       "layer[6]: FullConnectionLayer\n",
       "  init_sigma = 0.01\n",
       "  init_random = gaussian\n",
       "  init_bias = 0\n",
       "  num_hidden_units = 3\n",
       "layer[7]: SoftmaxLayer"
      ]
     },
     "execution_count": 71,
     "metadata": {},
     "output_type": "execute_result"
    }
   ],
   "source": [
    "net.layers"
   ]
  },
  {
   "cell_type": "code",
   "execution_count": null,
   "metadata": {
    "collapsed": true
   },
   "outputs": [],
   "source": []
  }
 ],
 "metadata": {
  "kernelspec": {
   "display_name": "Python 2",
   "language": "python",
   "name": "python2"
  },
  "language_info": {
   "codemirror_mode": {
    "name": "ipython",
    "version": 2
   },
   "file_extension": ".py",
   "mimetype": "text/x-python",
   "name": "python",
   "nbconvert_exporter": "python",
   "pygments_lexer": "ipython2",
   "version": "2.7.11"
  }
 },
 "nbformat": 4,
 "nbformat_minor": 0
}
